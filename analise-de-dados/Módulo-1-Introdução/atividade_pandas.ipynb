# Importando a biblioteca Pandas
import pandas as pd

# Carregando o arquivo CSV
df = pd.read_csv('/home/jovyan/data/alunos.csv')

# Exibindo o dataset completo
print("Dataset Completo:")
display(df)

# Filtrando os alunos com idade maior que 21
print("Alunos com idade maior que 21:")
display(df[df['idade'] > 21])

# Agrupando por curso e calculando a média de idade
print("Média de idade por curso:")
display(df.groupby('curso')['idade'].mean())
